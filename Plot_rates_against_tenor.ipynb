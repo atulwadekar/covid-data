{
  "nbformat": 4,
  "nbformat_minor": 0,
  "metadata": {
    "kernelspec": {
      "display_name": "Python 3",
      "language": "python",
      "name": "python3"
    },
    "language_info": {
      "codemirror_mode": {
        "name": "ipython",
        "version": 3
      },
      "file_extension": ".py",
      "mimetype": "text/x-python",
      "name": "python",
      "nbconvert_exporter": "python",
      "pygments_lexer": "ipython3",
      "version": "3.8.6"
    },
    "colab": {
      "name": "Plot_rates_against_tenor.ipynb",
      "provenance": [],
      "collapsed_sections": [],
      "include_colab_link": true
    }
  },
  "cells": [
    {
      "cell_type": "markdown",
      "metadata": {
        "id": "view-in-github",
        "colab_type": "text"
      },
      "source": [
        "<a href=\"https://colab.research.google.com/github/atulwadekar/covid-data/blob/master/Plot_rates_against_tenor.ipynb\" target=\"_parent\"><img src=\"https://colab.research.google.com/assets/colab-badge.svg\" alt=\"Open In Colab\"/></a>"
      ]
    },
    {
      "cell_type": "code",
      "metadata": {
        "id": "cj-SAyZTzORS"
      },
      "source": [
        "import pandas as pd\n",
        "import matplotlib.pyplot as plt"
      ],
      "execution_count": null,
      "outputs": []
    },
    {
      "cell_type": "code",
      "metadata": {
        "colab": {
          "resources": {
            "http://localhost:8080/nbextensions/google.colab/files.js": {
              "data": "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",
              "ok": true,
              "headers": [
                [
                  "content-type",
                  "application/javascript"
                ]
              ],
              "status": 200,
              "status_text": "OK"
            }
          },
          "base_uri": "https://localhost:8080/",
          "height": 70
        },
        "id": "C9o8zaex0owK",
        "outputId": "1bae31ef-96a5-4763-b45d-910fc7855d74"
      },
      "source": [
        "from google.colab import files\n",
        "uploaded = files.upload()"
      ],
      "execution_count": null,
      "outputs": [
        {
          "output_type": "display_data",
          "data": {
            "text/html": [
              "\n",
              "     <input type=\"file\" id=\"files-190f9c89-b7f2-4747-9ec6-c367c0250a01\" name=\"files[]\" multiple disabled\n",
              "        style=\"border:none\" />\n",
              "     <output id=\"result-190f9c89-b7f2-4747-9ec6-c367c0250a01\">\n",
              "      Upload widget is only available when the cell has been executed in the\n",
              "      current browser session. Please rerun this cell to enable.\n",
              "      </output>\n",
              "      <script src=\"/nbextensions/google.colab/files.js\"></script> "
            ],
            "text/plain": [
              "<IPython.core.display.HTML object>"
            ]
          },
          "metadata": {
            "tags": []
          }
        },
        {
          "output_type": "stream",
          "text": [
            "Saving DailyTreasuryYieldCurveRateData to DailyTreasuryYieldCurveRateData\n"
          ],
          "name": "stdout"
        }
      ]
    },
    {
      "cell_type": "code",
      "metadata": {
        "id": "j7wmFVirzORa"
      },
      "source": [
        "with open('FRB_H15_lists.csv', 'r') as fp:\n",
        "  FRB_csv = fp.read()\n",
        "df = pd.read_csv('FRB_H15_lists.csv')"
      ],
      "execution_count": null,
      "outputs": []
    },
    {
      "cell_type": "code",
      "metadata": {
        "id": "NAjVBFnbzORb"
      },
      "source": [
        "df2 = df.iloc[5:]"
      ],
      "execution_count": null,
      "outputs": []
    },
    {
      "cell_type": "code",
      "metadata": {
        "id": "UeTkme5_zORc",
        "colab": {
          "base_uri": "https://localhost:8080/",
          "height": 363
        },
        "outputId": "a1decbcc-a1cf-418e-9b56-6e5c26ba1dcb"
      },
      "source": [
        "df2.head(10)"
      ],
      "execution_count": null,
      "outputs": [
        {
          "output_type": "execute_result",
          "data": {
            "text/html": [
              "<div>\n",
              "<style scoped>\n",
              "    .dataframe tbody tr th:only-of-type {\n",
              "        vertical-align: middle;\n",
              "    }\n",
              "\n",
              "    .dataframe tbody tr th {\n",
              "        vertical-align: top;\n",
              "    }\n",
              "\n",
              "    .dataframe thead th {\n",
              "        text-align: right;\n",
              "    }\n",
              "</style>\n",
              "<table border=\"1\" class=\"dataframe\">\n",
              "  <thead>\n",
              "    <tr style=\"text-align: right;\">\n",
              "      <th></th>\n",
              "      <th>Series Description</th>\n",
              "      <th>Federal funds effective rate</th>\n",
              "    </tr>\n",
              "  </thead>\n",
              "  <tbody>\n",
              "    <tr>\n",
              "      <th>5</th>\n",
              "      <td>2000-01-01</td>\n",
              "      <td>3.99</td>\n",
              "    </tr>\n",
              "    <tr>\n",
              "      <th>6</th>\n",
              "      <td>2000-01-02</td>\n",
              "      <td>3.99</td>\n",
              "    </tr>\n",
              "    <tr>\n",
              "      <th>7</th>\n",
              "      <td>2000-01-03</td>\n",
              "      <td>5.43</td>\n",
              "    </tr>\n",
              "    <tr>\n",
              "      <th>8</th>\n",
              "      <td>2000-01-04</td>\n",
              "      <td>5.38</td>\n",
              "    </tr>\n",
              "    <tr>\n",
              "      <th>9</th>\n",
              "      <td>2000-01-05</td>\n",
              "      <td>5.41</td>\n",
              "    </tr>\n",
              "    <tr>\n",
              "      <th>10</th>\n",
              "      <td>2000-01-06</td>\n",
              "      <td>5.54</td>\n",
              "    </tr>\n",
              "    <tr>\n",
              "      <th>11</th>\n",
              "      <td>2000-01-07</td>\n",
              "      <td>5.61</td>\n",
              "    </tr>\n",
              "    <tr>\n",
              "      <th>12</th>\n",
              "      <td>2000-01-08</td>\n",
              "      <td>5.61</td>\n",
              "    </tr>\n",
              "    <tr>\n",
              "      <th>13</th>\n",
              "      <td>2000-01-09</td>\n",
              "      <td>5.61</td>\n",
              "    </tr>\n",
              "    <tr>\n",
              "      <th>14</th>\n",
              "      <td>2000-01-10</td>\n",
              "      <td>5.74</td>\n",
              "    </tr>\n",
              "  </tbody>\n",
              "</table>\n",
              "</div>"
            ],
            "text/plain": [
              "   Series Description Federal funds effective rate\n",
              "5          2000-01-01                         3.99\n",
              "6          2000-01-02                         3.99\n",
              "7          2000-01-03                         5.43\n",
              "8          2000-01-04                         5.38\n",
              "9          2000-01-05                         5.41\n",
              "10         2000-01-06                         5.54\n",
              "11         2000-01-07                         5.61\n",
              "12         2000-01-08                         5.61\n",
              "13         2000-01-09                         5.61\n",
              "14         2000-01-10                         5.74"
            ]
          },
          "metadata": {
            "tags": []
          },
          "execution_count": 19
        }
      ]
    },
    {
      "cell_type": "code",
      "metadata": {
        "id": "W4uap4IXzORe",
        "colab": {
          "base_uri": "https://localhost:8080/",
          "height": 175
        },
        "outputId": "43cfa054-c111-489a-da2c-0aea4229a54b"
      },
      "source": [
        "df.describe()"
      ],
      "execution_count": null,
      "outputs": [
        {
          "output_type": "execute_result",
          "data": {
            "text/html": [
              "<div>\n",
              "<style scoped>\n",
              "    .dataframe tbody tr th:only-of-type {\n",
              "        vertical-align: middle;\n",
              "    }\n",
              "\n",
              "    .dataframe tbody tr th {\n",
              "        vertical-align: top;\n",
              "    }\n",
              "\n",
              "    .dataframe thead th {\n",
              "        text-align: right;\n",
              "    }\n",
              "</style>\n",
              "<table border=\"1\" class=\"dataframe\">\n",
              "  <thead>\n",
              "    <tr style=\"text-align: right;\">\n",
              "      <th></th>\n",
              "      <th>Series Description</th>\n",
              "      <th>Federal funds effective rate</th>\n",
              "    </tr>\n",
              "  </thead>\n",
              "  <tbody>\n",
              "    <tr>\n",
              "      <th>count</th>\n",
              "      <td>7810</td>\n",
              "      <td>7809</td>\n",
              "    </tr>\n",
              "    <tr>\n",
              "      <th>unique</th>\n",
              "      <td>7810</td>\n",
              "      <td>554</td>\n",
              "    </tr>\n",
              "    <tr>\n",
              "      <th>top</th>\n",
              "      <td>2000-05-09</td>\n",
              "      <td>0.09</td>\n",
              "    </tr>\n",
              "    <tr>\n",
              "      <th>freq</th>\n",
              "      <td>1</td>\n",
              "      <td>555</td>\n",
              "    </tr>\n",
              "  </tbody>\n",
              "</table>\n",
              "</div>"
            ],
            "text/plain": [
              "       Series Description Federal funds effective rate\n",
              "count                7810                         7809\n",
              "unique               7810                          554\n",
              "top            2000-05-09                         0.09\n",
              "freq                    1                          555"
            ]
          },
          "metadata": {
            "tags": []
          },
          "execution_count": 20
        }
      ]
    },
    {
      "cell_type": "code",
      "metadata": {
        "id": "ynLssABAzORe",
        "colab": {
          "base_uri": "https://localhost:8080/"
        },
        "outputId": "e6bd8f5f-a8c4-4b90-b95d-2b6cd216d315"
      },
      "source": [
        "df['Federal funds effective rate']"
      ],
      "execution_count": null,
      "outputs": [
        {
          "output_type": "execute_result",
          "data": {
            "text/plain": [
              "0         Percent:_Per_Year\n",
              "1                         1\n",
              "2                       NaN\n",
              "3       H15/H15/RIFSPFF_N.D\n",
              "4               RIFSPFF_N.D\n",
              "               ...         \n",
              "7805                   0.06\n",
              "7806                   0.06\n",
              "7807                   0.06\n",
              "7808                   0.06\n",
              "7809                   0.06\n",
              "Name: Federal funds effective rate, Length: 7810, dtype: object"
            ]
          },
          "metadata": {
            "tags": []
          },
          "execution_count": 21
        }
      ]
    },
    {
      "cell_type": "code",
      "metadata": {
        "id": "vdXDRRHNzORg"
      },
      "source": [
        "%matplotlib inline"
      ],
      "execution_count": null,
      "outputs": []
    },
    {
      "cell_type": "code",
      "metadata": {
        "id": "jHpX5x6JzORg",
        "colab": {
          "base_uri": "https://localhost:8080/",
          "height": 483
        },
        "outputId": "238692d9-f01c-49f7-d116-324d9fd9f5c1"
      },
      "source": [
        "plt.figure(figsize=[8,8])\n",
        "plt.plot(df2['Series Description'], df2['Federal funds effective rate'])\n",
        "plt.show()"
      ],
      "execution_count": null,
      "outputs": [
        {
          "output_type": "display_data",
          "data": {
            "image/png": "[encoded data removed]",
            "text/plain": [
              "<Figure size 576x576 with 1 Axes>"
            ]
          },
          "metadata": {
            "tags": [],
            "needs_background": "light"
          }
        }
      ]
    },
    {
      "cell_type": "code",
      "metadata": {
        "id": "1FB3YJ3YzORh"
      },
      "source": [
        "import xml.etree.ElementTree as ET"
      ],
      "execution_count": null,
      "outputs": []
    },
    {
      "cell_type": "code",
      "metadata": {
        "id": "QSnmyx2czORj"
      },
      "source": [
        "with open('DailyTreasuryYieldCurveRateData', 'r') as fp:\n",
        "    xml_data = fp.read()\n",
        "root = ET.XML(xml_data)\n",
        "data = []\n",
        "cols = []\n",
        "for i, child in enumerate(root):\n",
        "    data.append([subchild.text for subchild in child])\n",
        "    cols.append(child.tag)\n",
        "df = pd.DataFrame(data).T\n",
        "df.columns = cols"
      ],
      "execution_count": null,
      "outputs": []
    },
    {
      "cell_type": "code",
      "metadata": {
        "id": "f6h8iOG-zORk"
      },
      "source": [
        "df.head(10)"
      ],
      "execution_count": null,
      "outputs": []
    },
    {
      "cell_type": "code",
      "metadata": {
        "id": "gO5lpAhJzORn",
        "colab": {
          "base_uri": "https://localhost:8080/"
        },
        "outputId": "2ecfbb81-6146-4195-b65a-f56ae0749c3b"
      },
      "source": [
        "!pip install pandas_read_xml"
      ],
      "execution_count": null,
      "outputs": [
        {
          "output_type": "stream",
          "text": [
            "Collecting pandas_read_xml\n",
            "  Downloading https://files.pythonhosted.org/packages/dd/67/033ecb058eb44bfabc1f1b4f92e4a80f59c9b423c442255a56e1826776b5/pandas_read_xml-0.3.1-py3-none-any.whl\n",
            "Requirement already satisfied: pyarrow in /usr/local/lib/python3.7/dist-packages (from pandas_read_xml) (3.0.0)\n",
            "Collecting zipfile36\n",
            "  Downloading https://files.pythonhosted.org/packages/fd/8a/3b7da0b0bd87d1ef05b74207827c72d348b56a0d6d83242582be18a81e02/zipfile36-0.1.3-py3-none-any.whl\n",
            "Collecting distlib\n",
            "\u001b[?25l  Downloading https://files.pythonhosted.org/packages/f5/0a/490fa011d699bb5a5f3a0cf57de82237f52a6db9d40f33c53b2736c9a1f9/distlib-0.3.1-py2.py3-none-any.whl (335kB)\n",
            "\u001b[K     |████████████████████████████████| 337kB 20.2MB/s \n",
            "\u001b[?25hCollecting urllib3>=1.26.3\n",
            "\u001b[?25l  Downloading https://files.pythonhosted.org/packages/09/c6/d3e3abe5b4f4f16cf0dfc9240ab7ce10c2baa0e268989a4e3ec19e90c84e/urllib3-1.26.4-py2.py3-none-any.whl (153kB)\n",
            "\u001b[K     |████████████████████████████████| 153kB 54.1MB/s \n",
            "\u001b[?25hRequirement already satisfied: requests in /usr/local/lib/python3.7/dist-packages (from pandas_read_xml) (2.23.0)\n",
            "Requirement already satisfied: pandas in /usr/local/lib/python3.7/dist-packages (from pandas_read_xml) (1.1.5)\n",
            "Collecting xmltodict\n",
            "  Downloading https://files.pythonhosted.org/packages/28/fd/30d5c1d3ac29ce229f6bdc40bbc20b28f716e8b363140c26eff19122d8a5/xmltodict-0.12.0-py2.py3-none-any.whl\n",
            "Requirement already satisfied: numpy>=1.16.6 in /usr/local/lib/python3.7/dist-packages (from pyarrow->pandas_read_xml) (1.19.5)\n",
            "Requirement already satisfied: certifi>=2017.4.17 in /usr/local/lib/python3.7/dist-packages (from requests->pandas_read_xml) (2020.12.5)\n",
            "Requirement already satisfied: idna<3,>=2.5 in /usr/local/lib/python3.7/dist-packages (from requests->pandas_read_xml) (2.10)\n",
            "Requirement already satisfied: chardet<4,>=3.0.2 in /usr/local/lib/python3.7/dist-packages (from requests->pandas_read_xml) (3.0.4)\n",
            "Requirement already satisfied: pytz>=2017.2 in /usr/local/lib/python3.7/dist-packages (from pandas->pandas_read_xml) (2018.9)\n",
            "Requirement already satisfied: python-dateutil>=2.7.3 in /usr/local/lib/python3.7/dist-packages (from pandas->pandas_read_xml) (2.8.1)\n",
            "Requirement already satisfied: six>=1.5 in /usr/local/lib/python3.7/dist-packages (from python-dateutil>=2.7.3->pandas->pandas_read_xml) (1.15.0)\n",
            "\u001b[31mERROR: requests 2.23.0 has requirement urllib3!=1.25.0,!=1.25.1,<1.26,>=1.21.1, but you'll have urllib3 1.26.4 which is incompatible.\u001b[0m\n",
            "\u001b[31mERROR: datascience 0.10.6 has requirement folium==0.2.1, but you'll have folium 0.8.3 which is incompatible.\u001b[0m\n",
            "Installing collected packages: zipfile36, distlib, urllib3, xmltodict, pandas-read-xml\n",
            "  Found existing installation: urllib3 1.24.3\n",
            "    Uninstalling urllib3-1.24.3:\n",
            "      Successfully uninstalled urllib3-1.24.3\n",
            "Successfully installed distlib-0.3.1 pandas-read-xml-0.3.1 urllib3-1.26.4 xmltodict-0.12.0 zipfile36-0.1.3\n"
          ],
          "name": "stdout"
        }
      ]
    },
    {
      "cell_type": "code",
      "metadata": {
        "id": "aKZEzQSSzORn",
        "colab": {
          "base_uri": "https://localhost:8080/"
        },
        "outputId": "0d53549c-5819-4645-d13b-4c18c9c8dc44"
      },
      "source": [
        "!python3 -m pip install --upgrade pip"
      ],
      "execution_count": null,
      "outputs": [
        {
          "output_type": "stream",
          "text": [
            "Collecting pip\n",
            "\u001b[?25l  Downloading https://files.pythonhosted.org/packages/cd/6f/43037c7bcc8bd8ba7c9074256b1a11596daa15555808ec748048c1507f08/pip-21.1.1-py3-none-any.whl (1.5MB)\n",
            "\r\u001b[K     |▏                               | 10kB 22.0MB/s eta 0:00:01\r\u001b[K     |▍                               | 20kB 27.1MB/s eta 0:00:01\r\u001b[K     |▋                               | 30kB 31.3MB/s eta 0:00:01\r\u001b[K     |▉                               | 40kB 21.7MB/s eta 0:00:01\r\u001b[K     |█                               | 51kB 14.9MB/s eta 0:00:01\r\u001b[K     |█▎                              | 61kB 11.9MB/s eta 0:00:01\r\u001b[K     |█▌                              | 71kB 13.1MB/s eta 0:00:01\r\u001b[K     |█▊                              | 81kB 14.5MB/s eta 0:00:01\r\u001b[K     |██                              | 92kB 12.0MB/s eta 0:00:01\r\u001b[K     |██▏                             | 102kB 13.0MB/s eta 0:00:01\r\u001b[K     |██▎                             | 112kB 13.0MB/s eta 0:00:01\r\u001b[K     |██▌                             | 122kB 13.0MB/s eta 0:00:01\r\u001b[K     |██▊                             | 133kB 13.0MB/s eta 0:00:01\r\u001b[K     |███                             | 143kB 13.0MB/s eta 0:00:01\r\u001b[K     |███▏                            | 153kB 13.0MB/s eta 0:00:01\r\u001b[K     |███▍                            | 163kB 13.0MB/s eta 0:00:01\r\u001b[K     |███▋                            | 174kB 13.0MB/s eta 0:00:01\r\u001b[K     |███▉                            | 184kB 13.0MB/s eta 0:00:01\r\u001b[K     |████                            | 194kB 13.0MB/s eta 0:00:01\r\u001b[K     |████▎                           | 204kB 13.0MB/s eta 0:00:01\r\u001b[K     |████▌                           | 215kB 13.0MB/s eta 0:00:01\r\u001b[K     |████▋                           | 225kB 13.0MB/s eta 0:00:01\r\u001b[K     |████▉                           | 235kB 13.0MB/s eta 0:00:01\r\u001b[K     |█████                           | 245kB 13.0MB/s eta 0:00:01\r\u001b[K     |█████▎                          | 256kB 13.0MB/s eta 0:00:01\r\u001b[K     |█████▌                          | 266kB 13.0MB/s eta 0:00:01\r\u001b[K     |█████▊                          | 276kB 13.0MB/s eta 0:00:01\r\u001b[K     |██████                          | 286kB 13.0MB/s eta 0:00:01\r\u001b[K     |██████▏                         | 296kB 13.0MB/s eta 0:00:01\r\u001b[K     |██████▍                         | 307kB 13.0MB/s eta 0:00:01\r\u001b[K     |██████▋                         | 317kB 13.0MB/s eta 0:00:01\r\u001b[K     |██████▊                         | 327kB 13.0MB/s eta 0:00:01\r\u001b[K     |███████                         | 337kB 13.0MB/s eta 0:00:01\r\u001b[K     |███████▏                        | 348kB 13.0MB/s eta 0:00:01\r\u001b[K     |███████▍                        | 358kB 13.0MB/s eta 0:00:01\r\u001b[K     |███████▋                        | 368kB 13.0MB/s eta 0:00:01\r\u001b[K     |███████▉                        | 378kB 13.0MB/s eta 0:00:01\r\u001b[K     |████████                        | 389kB 13.0MB/s eta 0:00:01\r\u001b[K     |████████▎                       | 399kB 13.0MB/s eta 0:00:01\r\u001b[K     |████████▌                       | 409kB 13.0MB/s eta 0:00:01\r\u001b[K     |████████▊                       | 419kB 13.0MB/s eta 0:00:01\r\u001b[K     |█████████                       | 430kB 13.0MB/s eta 0:00:01\r\u001b[K     |█████████                       | 440kB 13.0MB/s eta 0:00:01\r\u001b[K     |█████████▎                      | 450kB 13.0MB/s eta 0:00:01\r\u001b[K     |█████████▌                      | 460kB 13.0MB/s eta 0:00:01\r\u001b[K     |█████████▊                      | 471kB 13.0MB/s eta 0:00:01\r\u001b[K     |██████████                      | 481kB 13.0MB/s eta 0:00:01\r\u001b[K     |██████████▏                     | 491kB 13.0MB/s eta 0:00:01\r\u001b[K     |██████████▍                     | 501kB 13.0MB/s eta 0:00:01\r\u001b[K     |██████████▋                     | 512kB 13.0MB/s eta 0:00:01\r\u001b[K     |██████████▉                     | 522kB 13.0MB/s eta 0:00:01\r\u001b[K     |███████████                     | 532kB 13.0MB/s eta 0:00:01\r\u001b[K     |███████████▏                    | 542kB 13.0MB/s eta 0:00:01\r\u001b[K     |███████████▍                    | 552kB 13.0MB/s eta 0:00:01\r\u001b[K     |███████████▋                    | 563kB 13.0MB/s eta 0:00:01\r\u001b[K     |███████████▉                    | 573kB 13.0MB/s eta 0:00:01\r\u001b[K     |████████████                    | 583kB 13.0MB/s eta 0:00:01\r\u001b[K     |████████████▎                   | 593kB 13.0MB/s eta 0:00:01\r\u001b[K     |████████████▌                   | 604kB 13.0MB/s eta 0:00:01\r\u001b[K     |████████████▊                   | 614kB 13.0MB/s eta 0:00:01\r\u001b[K     |█████████████                   | 624kB 13.0MB/s eta 0:00:01\r\u001b[K     |█████████████▏                  | 634kB 13.0MB/s eta 0:00:01\r\u001b[K     |█████████████▍                  | 645kB 13.0MB/s eta 0:00:01\r\u001b[K     |█████████████▌                  | 655kB 13.0MB/s eta 0:00:01\r\u001b[K     |█████████████▊                  | 665kB 13.0MB/s eta 0:00:01\r\u001b[K     |██████████████                  | 675kB 13.0MB/s eta 0:00:01\r\u001b[K     |██████████████▏                 | 686kB 13.0MB/s eta 0:00:01\r\u001b[K     |██████████████▍                 | 696kB 13.0MB/s eta 0:00:01\r\u001b[K     |██████████████▋                 | 706kB 13.0MB/s eta 0:00:01\r\u001b[K     |██████████████▉                 | 716kB 13.0MB/s eta 0:00:01\r\u001b[K     |███████████████                 | 727kB 13.0MB/s eta 0:00:01\r\u001b[K     |███████████████▎                | 737kB 13.0MB/s eta 0:00:01\r\u001b[K     |███████████████▌                | 747kB 13.0MB/s eta 0:00:01\r\u001b[K     |███████████████▊                | 757kB 13.0MB/s eta 0:00:01\r\u001b[K     |███████████████▉                | 768kB 13.0MB/s eta 0:00:01\r\u001b[K     |████████████████                | 778kB 13.0MB/s eta 0:00:01\r\u001b[K     |████████████████▎               | 788kB 13.0MB/s eta 0:00:01\r\u001b[K     |████████████████▌               | 798kB 13.0MB/s eta 0:00:01\r\u001b[K     |████████████████▊               | 808kB 13.0MB/s eta 0:00:01\r\u001b[K     |█████████████████               | 819kB 13.0MB/s eta 0:00:01\r\u001b[K     |█████████████████▏              | 829kB 13.0MB/s eta 0:00:01\r\u001b[K     |█████████████████▍              | 839kB 13.0MB/s eta 0:00:01\r\u001b[K     |█████████████████▋              | 849kB 13.0MB/s eta 0:00:01\r\u001b[K     |█████████████████▉              | 860kB 13.0MB/s eta 0:00:01\r\u001b[K     |██████████████████              | 870kB 13.0MB/s eta 0:00:01\r\u001b[K     |██████████████████▏             | 880kB 13.0MB/s eta 0:00:01\r\u001b[K     |██████████████████▍             | 890kB 13.0MB/s eta 0:00:01\r\u001b[K     |██████████████████▋             | 901kB 13.0MB/s eta 0:00:01\r\u001b[K     |██████████████████▉             | 911kB 13.0MB/s eta 0:00:01\r\u001b[K     |███████████████████             | 921kB 13.0MB/s eta 0:00:01\r\u001b[K     |███████████████████▎            | 931kB 13.0MB/s eta 0:00:01\r\u001b[K     |███████████████████▌            | 942kB 13.0MB/s eta 0:00:01\r\u001b[K     |███████████████████▊            | 952kB 13.0MB/s eta 0:00:01\r\u001b[K     |████████████████████            | 962kB 13.0MB/s eta 0:00:01\r\u001b[K     |████████████████████▏           | 972kB 13.0MB/s eta 0:00:01\r\u001b[K     |████████████████████▎           | 983kB 13.0MB/s eta 0:00:01\r\u001b[K     |████████████████████▌           | 993kB 13.0MB/s eta 0:00:01\r\u001b[K     |████████████████████▊           | 1.0MB 13.0MB/s eta 0:00:01\r\u001b[K     |█████████████████████           | 1.0MB 13.0MB/s eta 0:00:01\r\u001b[K     |█████████████████████▏          | 1.0MB 13.0MB/s eta 0:00:01\r\u001b[K     |█████████████████████▍          | 1.0MB 13.0MB/s eta 0:00:01\r\u001b[K     |█████████████████████▋          | 1.0MB 13.0MB/s eta 0:00:01\r\u001b[K     |█████████████████████▉          | 1.1MB 13.0MB/s eta 0:00:01\r\u001b[K     |██████████████████████          | 1.1MB 13.0MB/s eta 0:00:01\r\u001b[K     |██████████████████████▎         | 1.1MB 13.0MB/s eta 0:00:01\r\u001b[K     |██████████████████████▍         | 1.1MB 13.0MB/s eta 0:00:01\r\u001b[K     |██████████████████████▋         | 1.1MB 13.0MB/s eta 0:00:01\r\u001b[K     |██████████████████████▉         | 1.1MB 13.0MB/s eta 0:00:01\r\u001b[K     |███████████████████████         | 1.1MB 13.0MB/s eta 0:00:01\r\u001b[K     |███████████████████████▎        | 1.1MB 13.0MB/s eta 0:00:01\r\u001b[K     |███████████████████████▌        | 1.1MB 13.0MB/s eta 0:00:01\r\u001b[K     |███████████████████████▊        | 1.1MB 13.0MB/s eta 0:00:01\r\u001b[K     |████████████████████████        | 1.2MB 13.0MB/s eta 0:00:01\r\u001b[K     |████████████████████████▏       | 1.2MB 13.0MB/s eta 0:00:01\r\u001b[K     |████████████████████████▍       | 1.2MB 13.0MB/s eta 0:00:01\r\u001b[K     |████████████████████████▋       | 1.2MB 13.0MB/s eta 0:00:01\r\u001b[K     |████████████████████████▊       | 1.2MB 13.0MB/s eta 0:00:01\r\u001b[K     |█████████████████████████       | 1.2MB 13.0MB/s eta 0:00:01\r\u001b[K     |█████████████████████████▏      | 1.2MB 13.0MB/s eta 0:00:01\r\u001b[K     |█████████████████████████▍      | 1.2MB 13.0MB/s eta 0:00:01\r\u001b[K     |█████████████████████████▋      | 1.2MB 13.0MB/s eta 0:00:01\r\u001b[K     |█████████████████████████▉      | 1.2MB 13.0MB/s eta 0:00:01\r\u001b[K     |██████████████████████████      | 1.3MB 13.0MB/s eta 0:00:01\r\u001b[K     |██████████████████████████▎     | 1.3MB 13.0MB/s eta 0:00:01\r\u001b[K     |██████████████████████████▌     | 1.3MB 13.0MB/s eta 0:00:01\r\u001b[K     |██████████████████████████▊     | 1.3MB 13.0MB/s eta 0:00:01\r\u001b[K     |███████████████████████████     | 1.3MB 13.0MB/s eta 0:00:01\r\u001b[K     |███████████████████████████     | 1.3MB 13.0MB/s eta 0:00:01\r\u001b[K     |███████████████████████████▎    | 1.3MB 13.0MB/s eta 0:00:01\r\u001b[K     |███████████████████████████▌    | 1.3MB 13.0MB/s eta 0:00:01\r\u001b[K     |███████████████████████████▊    | 1.3MB 13.0MB/s eta 0:00:01\r\u001b[K     |████████████████████████████    | 1.4MB 13.0MB/s eta 0:00:01\r\u001b[K     |████████████████████████████▏   | 1.4MB 13.0MB/s eta 0:00:01\r\u001b[K     |████████████████████████████▍   | 1.4MB 13.0MB/s eta 0:00:01\r\u001b[K     |████████████████████████████▋   | 1.4MB 13.0MB/s eta 0:00:01\r\u001b[K     |████████████████████████████▉   | 1.4MB 13.0MB/s eta 0:00:01\r\u001b[K     |█████████████████████████████   | 1.4MB 13.0MB/s eta 0:00:01\r\u001b[K     |█████████████████████████████▏  | 1.4MB 13.0MB/s eta 0:00:01\r\u001b[K     |█████████████████████████████▍  | 1.4MB 13.0MB/s eta 0:00:01\r\u001b[K     |█████████████████████████████▋  | 1.4MB 13.0MB/s eta 0:00:01\r\u001b[K     |█████████████████████████████▉  | 1.4MB 13.0MB/s eta 0:00:01\r\u001b[K     |██████████████████████████████  | 1.5MB 13.0MB/s eta 0:00:01\r\u001b[K     |██████████████████████████████▎ | 1.5MB 13.0MB/s eta 0:00:01\r\u001b[K     |██████████████████████████████▌ | 1.5MB 13.0MB/s eta 0:00:01\r\u001b[K     |██████████████████████████████▊ | 1.5MB 13.0MB/s eta 0:00:01\r\u001b[K     |███████████████████████████████ | 1.5MB 13.0MB/s eta 0:00:01\r\u001b[K     |███████████████████████████████▏| 1.5MB 13.0MB/s eta 0:00:01\r\u001b[K     |███████████████████████████████▍| 1.5MB 13.0MB/s eta 0:00:01\r\u001b[K     |███████████████████████████████▌| 1.5MB 13.0MB/s eta 0:00:01\r\u001b[K     |███████████████████████████████▊| 1.5MB 13.0MB/s eta 0:00:01\r\u001b[K     |████████████████████████████████| 1.5MB 13.0MB/s eta 0:00:01\r\u001b[K     |████████████████████████████████| 1.6MB 13.0MB/s \n",
            "\u001b[?25hInstalling collected packages: pip\n",
            "  Found existing installation: pip 19.3.1\n",
            "    Uninstalling pip-19.3.1:\n",
            "      Successfully uninstalled pip-19.3.1\n",
            "Successfully installed pip-21.1.1\n"
          ],
          "name": "stdout"
        }
      ]
    },
    {
      "cell_type": "code",
      "metadata": {
        "id": "aYPH4tiLzORo",
        "colab": {
          "base_uri": "https://localhost:8080/"
        },
        "outputId": "a1fd27be-4dac-4200-cc96-5dec64bdbd77"
      },
      "source": [
        "import pandas_read_xml as pdx"
      ],
      "execution_count": null,
      "outputs": [
        {
          "output_type": "stream",
          "text": [
            "/usr/local/lib/python3.7/dist-packages/requests/__init__.py:91: RequestsDependencyWarning: urllib3 (1.26.4) or chardet (3.0.4) doesn't match a supported version!\n",
            "  RequestsDependencyWarning)\n"
          ],
          "name": "stderr"
        }
      ]
    },
    {
      "cell_type": "code",
      "metadata": {
        "id": "w_etqFu2zORp"
      },
      "source": [
        "with open('DailyTreasuryYieldCurveRateData', 'r') as rf:\n",
        "    rate_data = rf.read()"
      ],
      "execution_count": null,
      "outputs": []
    },
    {
      "cell_type": "code",
      "metadata": {
        "id": "_MIByONzzORp"
      },
      "source": [
        "df = pdx.read_xml(rate_data, ['feed','entry'], root_is_rows=False)"
      ],
      "execution_count": null,
      "outputs": []
    },
    {
      "cell_type": "code",
      "metadata": {
        "id": "NC9qje3hzORq"
      },
      "source": [
        "from pandas_read_xml import flatten, fully_flatten, auto_separate_tables"
      ],
      "execution_count": null,
      "outputs": []
    },
    {
      "cell_type": "code",
      "metadata": {
        "id": "PE0FDj6LzORq"
      },
      "source": [
        "df = df.pipe(flatten)"
      ],
      "execution_count": null,
      "outputs": []
    },
    {
      "cell_type": "code",
      "metadata": {
        "id": "z0RjmeWTzORr"
      },
      "source": [
        "df = df.pipe(flatten)"
      ],
      "execution_count": null,
      "outputs": []
    },
    {
      "cell_type": "code",
      "metadata": {
        "id": "uVz_QasKzORs",
        "colab": {
          "base_uri": "https://localhost:8080/",
          "height": 400
        },
        "outputId": "28057766-6420-46d2-bb53-9828d9cfa091"
      },
      "source": [
        "df.head()"
      ],
      "execution_count": null,
      "outputs": [
        {
          "output_type": "execute_result",
          "data": {
            "text/html": [
              "<div>\n",
              "<style scoped>\n",
              "    .dataframe tbody tr th:only-of-type {\n",
              "        vertical-align: middle;\n",
              "    }\n",
              "\n",
              "    .dataframe tbody tr th {\n",
              "        vertical-align: top;\n",
              "    }\n",
              "\n",
              "    .dataframe thead th {\n",
              "        text-align: right;\n",
              "    }\n",
              "</style>\n",
              "<table border=\"1\" class=\"dataframe\">\n",
              "  <thead>\n",
              "    <tr style=\"text-align: right;\">\n",
              "      <th></th>\n",
              "      <th>id</th>\n",
              "      <th>updated</th>\n",
              "      <th>title|@type</th>\n",
              "      <th>author|name</th>\n",
              "      <th>link|@rel</th>\n",
              "      <th>link|@title</th>\n",
              "      <th>link|@href</th>\n",
              "      <th>category|@term</th>\n",
              "      <th>category|@scheme</th>\n",
              "      <th>content|@type</th>\n",
              "      <th>content|m:properties|d:Id</th>\n",
              "      <th>content|m:properties|d:NEW_DATE</th>\n",
              "      <th>content|m:properties|d:BC_1MONTH</th>\n",
              "      <th>content|m:properties|d:BC_2MONTH</th>\n",
              "      <th>content|m:properties|d:BC_3MONTH</th>\n",
              "      <th>content|m:properties|d:BC_6MONTH</th>\n",
              "      <th>content|m:properties|d:BC_1YEAR</th>\n",
              "      <th>content|m:properties|d:BC_2YEAR</th>\n",
              "      <th>content|m:properties|d:BC_3YEAR</th>\n",
              "      <th>content|m:properties|d:BC_5YEAR</th>\n",
              "      <th>content|m:properties|d:BC_7YEAR</th>\n",
              "      <th>content|m:properties|d:BC_10YEAR</th>\n",
              "      <th>content|m:properties|d:BC_20YEAR</th>\n",
              "      <th>content|m:properties|d:BC_30YEAR</th>\n",
              "      <th>content|m:properties|d:BC_30YEARDISPLAY</th>\n",
              "    </tr>\n",
              "  </thead>\n",
              "  <tbody>\n",
              "    <tr>\n",
              "      <th>0</th>\n",
              "      <td>http://data.treasury.gov/Feed.svc/DailyTreasur...</td>\n",
              "      <td>2021-05-19T01:10:16Z</td>\n",
              "      <td>text</td>\n",
              "      <td>None</td>\n",
              "      <td>edit</td>\n",
              "      <td>DailyTreasuryYieldCurveRateDatum</td>\n",
              "      <td>DailyTreasuryYieldCurveRateData(7759)</td>\n",
              "      <td>TreasuryDataWarehouseModel.DailyTreasuryYieldC...</td>\n",
              "      <td>http://schemas.microsoft.com/ado/2007/08/datas...</td>\n",
              "      <td>application/xml</td>\n",
              "      <td>{'@m:type': 'Edm.Int32', '#text': '7759'}</td>\n",
              "      <td>{'@m:type': 'Edm.DateTime', '#text': '2021-01-...</td>\n",
              "      <td>{'@m:type': 'Edm.Double', '#text': '0.09'}</td>\n",
              "      <td>{'@m:type': 'Edm.Double', '#text': '0.09'}</td>\n",
              "      <td>{'@m:type': 'Edm.Double', '#text': '0.09'}</td>\n",
              "      <td>{'@m:type': 'Edm.Double', '#text': '0.09'}</td>\n",
              "      <td>{'@m:type': 'Edm.Double', '#text': '0.1'}</td>\n",
              "      <td>{'@m:type': 'Edm.Double', '#text': '0.11'}</td>\n",
              "      <td>{'@m:type': 'Edm.Double', '#text': '0.16'}</td>\n",
              "      <td>{'@m:type': 'Edm.Double', '#text': '0.36'}</td>\n",
              "      <td>{'@m:type': 'Edm.Double', '#text': '0.64'}</td>\n",
              "      <td>{'@m:type': 'Edm.Double', '#text': '0.93'}</td>\n",
              "      <td>{'@m:type': 'Edm.Double', '#text': '1.46'}</td>\n",
              "      <td>{'@m:type': 'Edm.Double', '#text': '1.66'}</td>\n",
              "      <td>{'@m:type': 'Edm.Double', '#text': '1.66'}</td>\n",
              "    </tr>\n",
              "    <tr>\n",
              "      <th>1</th>\n",
              "      <td>http://data.treasury.gov/Feed.svc/DailyTreasur...</td>\n",
              "      <td>2021-05-19T01:10:16Z</td>\n",
              "      <td>text</td>\n",
              "      <td>None</td>\n",
              "      <td>edit</td>\n",
              "      <td>DailyTreasuryYieldCurveRateDatum</td>\n",
              "      <td>DailyTreasuryYieldCurveRateData(7760)</td>\n",
              "      <td>TreasuryDataWarehouseModel.DailyTreasuryYieldC...</td>\n",
              "      <td>http://schemas.microsoft.com/ado/2007/08/datas...</td>\n",
              "      <td>application/xml</td>\n",
              "      <td>{'@m:type': 'Edm.Int32', '#text': '7760'}</td>\n",
              "      <td>{'@m:type': 'Edm.DateTime', '#text': '2021-01-...</td>\n",
              "      <td>{'@m:type': 'Edm.Double', '#text': '0.08'}</td>\n",
              "      <td>{'@m:type': 'Edm.Double', '#text': '0.09'}</td>\n",
              "      <td>{'@m:type': 'Edm.Double', '#text': '0.09'}</td>\n",
              "      <td>{'@m:type': 'Edm.Double', '#text': '0.09'}</td>\n",
              "      <td>{'@m:type': 'Edm.Double', '#text': '0.1'}</td>\n",
              "      <td>{'@m:type': 'Edm.Double', '#text': '0.13'}</td>\n",
              "      <td>{'@m:type': 'Edm.Double', '#text': '0.17'}</td>\n",
              "      <td>{'@m:type': 'Edm.Double', '#text': '0.38'}</td>\n",
              "      <td>{'@m:type': 'Edm.Double', '#text': '0.66'}</td>\n",
              "      <td>{'@m:type': 'Edm.Double', '#text': '0.96'}</td>\n",
              "      <td>{'@m:type': 'Edm.Double', '#text': '1.49'}</td>\n",
              "      <td>{'@m:type': 'Edm.Double', '#text': '1.7'}</td>\n",
              "      <td>{'@m:type': 'Edm.Double', '#text': '1.7'}</td>\n",
              "    </tr>\n",
              "    <tr>\n",
              "      <th>2</th>\n",
              "      <td>http://data.treasury.gov/Feed.svc/DailyTreasur...</td>\n",
              "      <td>2021-05-19T01:10:16Z</td>\n",
              "      <td>text</td>\n",
              "      <td>None</td>\n",
              "      <td>edit</td>\n",
              "      <td>DailyTreasuryYieldCurveRateDatum</td>\n",
              "      <td>DailyTreasuryYieldCurveRateData(7761)</td>\n",
              "      <td>TreasuryDataWarehouseModel.DailyTreasuryYieldC...</td>\n",
              "      <td>http://schemas.microsoft.com/ado/2007/08/datas...</td>\n",
              "      <td>application/xml</td>\n",
              "      <td>{'@m:type': 'Edm.Int32', '#text': '7761'}</td>\n",
              "      <td>{'@m:type': 'Edm.DateTime', '#text': '2021-01-...</td>\n",
              "      <td>{'@m:type': 'Edm.Double', '#text': '0.09'}</td>\n",
              "      <td>{'@m:type': 'Edm.Double', '#text': '0.09'}</td>\n",
              "      <td>{'@m:type': 'Edm.Double', '#text': '0.09'}</td>\n",
              "      <td>{'@m:type': 'Edm.Double', '#text': '0.09'}</td>\n",
              "      <td>{'@m:type': 'Edm.Double', '#text': '0.11'}</td>\n",
              "      <td>{'@m:type': 'Edm.Double', '#text': '0.14'}</td>\n",
              "      <td>{'@m:type': 'Edm.Double', '#text': '0.2'}</td>\n",
              "      <td>{'@m:type': 'Edm.Double', '#text': '0.43'}</td>\n",
              "      <td>{'@m:type': 'Edm.Double', '#text': '0.74'}</td>\n",
              "      <td>{'@m:type': 'Edm.Double', '#text': '1.04'}</td>\n",
              "      <td>{'@m:type': 'Edm.Double', '#text': '1.6'}</td>\n",
              "      <td>{'@m:type': 'Edm.Double', '#text': '1.81'}</td>\n",
              "      <td>{'@m:type': 'Edm.Double', '#text': '1.81'}</td>\n",
              "    </tr>\n",
              "    <tr>\n",
              "      <th>3</th>\n",
              "      <td>http://data.treasury.gov/Feed.svc/DailyTreasur...</td>\n",
              "      <td>2021-05-19T01:10:16Z</td>\n",
              "      <td>text</td>\n",
              "      <td>None</td>\n",
              "      <td>edit</td>\n",
              "      <td>DailyTreasuryYieldCurveRateDatum</td>\n",
              "      <td>DailyTreasuryYieldCurveRateData(7762)</td>\n",
              "      <td>TreasuryDataWarehouseModel.DailyTreasuryYieldC...</td>\n",
              "      <td>http://schemas.microsoft.com/ado/2007/08/datas...</td>\n",
              "      <td>application/xml</td>\n",
              "      <td>{'@m:type': 'Edm.Int32', '#text': '7762'}</td>\n",
              "      <td>{'@m:type': 'Edm.DateTime', '#text': '2021-01-...</td>\n",
              "      <td>{'@m:type': 'Edm.Double', '#text': '0.09'}</td>\n",
              "      <td>{'@m:type': 'Edm.Double', '#text': '0.09'}</td>\n",
              "      <td>{'@m:type': 'Edm.Double', '#text': '0.09'}</td>\n",
              "      <td>{'@m:type': 'Edm.Double', '#text': '0.09'}</td>\n",
              "      <td>{'@m:type': 'Edm.Double', '#text': '0.11'}</td>\n",
              "      <td>{'@m:type': 'Edm.Double', '#text': '0.14'}</td>\n",
              "      <td>{'@m:type': 'Edm.Double', '#text': '0.22'}</td>\n",
              "      <td>{'@m:type': 'Edm.Double', '#text': '0.46'}</td>\n",
              "      <td>{'@m:type': 'Edm.Double', '#text': '0.78'}</td>\n",
              "      <td>{'@m:type': 'Edm.Double', '#text': '1.08'}</td>\n",
              "      <td>{'@m:type': 'Edm.Double', '#text': '1.64'}</td>\n",
              "      <td>{'@m:type': 'Edm.Double', '#text': '1.85'}</td>\n",
              "      <td>{'@m:type': 'Edm.Double', '#text': '1.85'}</td>\n",
              "    </tr>\n",
              "    <tr>\n",
              "      <th>4</th>\n",
              "      <td>http://data.treasury.gov/Feed.svc/DailyTreasur...</td>\n",
              "      <td>2021-05-19T01:10:16Z</td>\n",
              "      <td>text</td>\n",
              "      <td>None</td>\n",
              "      <td>edit</td>\n",
              "      <td>DailyTreasuryYieldCurveRateDatum</td>\n",
              "      <td>DailyTreasuryYieldCurveRateData(7763)</td>\n",
              "      <td>TreasuryDataWarehouseModel.DailyTreasuryYieldC...</td>\n",
              "      <td>http://schemas.microsoft.com/ado/2007/08/datas...</td>\n",
              "      <td>application/xml</td>\n",
              "      <td>{'@m:type': 'Edm.Int32', '#text': '7763'}</td>\n",
              "      <td>{'@m:type': 'Edm.DateTime', '#text': '2021-01-...</td>\n",
              "      <td>{'@m:type': 'Edm.Double', '#text': '0.08'}</td>\n",
              "      <td>{'@m:type': 'Edm.Double', '#text': '0.08'}</td>\n",
              "      <td>{'@m:type': 'Edm.Double', '#text': '0.08'}</td>\n",
              "      <td>{'@m:type': 'Edm.Double', '#text': '0.09'}</td>\n",
              "      <td>{'@m:type': 'Edm.Double', '#text': '0.1'}</td>\n",
              "      <td>{'@m:type': 'Edm.Double', '#text': '0.14'}</td>\n",
              "      <td>{'@m:type': 'Edm.Double', '#text': '0.24'}</td>\n",
              "      <td>{'@m:type': 'Edm.Double', '#text': '0.49'}</td>\n",
              "      <td>{'@m:type': 'Edm.Double', '#text': '0.81'}</td>\n",
              "      <td>{'@m:type': 'Edm.Double', '#text': '1.13'}</td>\n",
              "      <td>{'@m:type': 'Edm.Double', '#text': '1.67'}</td>\n",
              "      <td>{'@m:type': 'Edm.Double', '#text': '1.87'}</td>\n",
              "      <td>{'@m:type': 'Edm.Double', '#text': '1.87'}</td>\n",
              "    </tr>\n",
              "  </tbody>\n",
              "</table>\n",
              "</div>"
            ],
            "text/plain": [
              "                                                  id  ...     content|m:properties|d:BC_30YEARDISPLAY\n",
              "0  http://data.treasury.gov/Feed.svc/DailyTreasur...  ...  {'@m:type': 'Edm.Double', '#text': '1.66'}\n",
              "1  http://data.treasury.gov/Feed.svc/DailyTreasur...  ...   {'@m:type': 'Edm.Double', '#text': '1.7'}\n",
              "2  http://data.treasury.gov/Feed.svc/DailyTreasur...  ...  {'@m:type': 'Edm.Double', '#text': '1.81'}\n",
              "3  http://data.treasury.gov/Feed.svc/DailyTreasur...  ...  {'@m:type': 'Edm.Double', '#text': '1.85'}\n",
              "4  http://data.treasury.gov/Feed.svc/DailyTreasur...  ...  {'@m:type': 'Edm.Double', '#text': '1.87'}\n",
              "\n",
              "[5 rows x 25 columns]"
            ]
          },
          "metadata": {
            "tags": []
          },
          "execution_count": 40
        }
      ]
    },
    {
      "cell_type": "code",
      "metadata": {
        "id": "IBHf6R1TzOR0"
      },
      "source": [
        "df = df.filter(regex='^content\\|m:properties')"
      ],
      "execution_count": null,
      "outputs": []
    },
    {
      "cell_type": "code",
      "metadata": {
        "id": "nX6sc3OizOR1",
        "colab": {
          "base_uri": "https://localhost:8080/",
          "height": 313
        },
        "outputId": "0d2608bd-165f-4cfd-e2e8-9c6e70f109de"
      },
      "source": [
        "df.head()"
      ],
      "execution_count": null,
      "outputs": [
        {
          "output_type": "execute_result",
          "data": {
            "text/html": [
              "<div>\n",
              "<style scoped>\n",
              "    .dataframe tbody tr th:only-of-type {\n",
              "        vertical-align: middle;\n",
              "    }\n",
              "\n",
              "    .dataframe tbody tr th {\n",
              "        vertical-align: top;\n",
              "    }\n",
              "\n",
              "    .dataframe thead th {\n",
              "        text-align: right;\n",
              "    }\n",
              "</style>\n",
              "<table border=\"1\" class=\"dataframe\">\n",
              "  <thead>\n",
              "    <tr style=\"text-align: right;\">\n",
              "      <th></th>\n",
              "      <th>content|m:properties|d:Id</th>\n",
              "      <th>content|m:properties|d:NEW_DATE</th>\n",
              "      <th>content|m:properties|d:BC_1MONTH</th>\n",
              "      <th>content|m:properties|d:BC_2MONTH</th>\n",
              "      <th>content|m:properties|d:BC_3MONTH</th>\n",
              "      <th>content|m:properties|d:BC_6MONTH</th>\n",
              "      <th>content|m:properties|d:BC_1YEAR</th>\n",
              "      <th>content|m:properties|d:BC_2YEAR</th>\n",
              "      <th>content|m:properties|d:BC_3YEAR</th>\n",
              "      <th>content|m:properties|d:BC_5YEAR</th>\n",
              "      <th>content|m:properties|d:BC_7YEAR</th>\n",
              "      <th>content|m:properties|d:BC_10YEAR</th>\n",
              "      <th>content|m:properties|d:BC_20YEAR</th>\n",
              "      <th>content|m:properties|d:BC_30YEAR</th>\n",
              "      <th>content|m:properties|d:BC_30YEARDISPLAY</th>\n",
              "    </tr>\n",
              "  </thead>\n",
              "  <tbody>\n",
              "    <tr>\n",
              "      <th>0</th>\n",
              "      <td>{'@m:type': 'Edm.Int32', '#text': '7759'}</td>\n",
              "      <td>{'@m:type': 'Edm.DateTime', '#text': '2021-01-...</td>\n",
              "      <td>{'@m:type': 'Edm.Double', '#text': '0.09'}</td>\n",
              "      <td>{'@m:type': 'Edm.Double', '#text': '0.09'}</td>\n",
              "      <td>{'@m:type': 'Edm.Double', '#text': '0.09'}</td>\n",
              "      <td>{'@m:type': 'Edm.Double', '#text': '0.09'}</td>\n",
              "      <td>{'@m:type': 'Edm.Double', '#text': '0.1'}</td>\n",
              "      <td>{'@m:type': 'Edm.Double', '#text': '0.11'}</td>\n",
              "      <td>{'@m:type': 'Edm.Double', '#text': '0.16'}</td>\n",
              "      <td>{'@m:type': 'Edm.Double', '#text': '0.36'}</td>\n",
              "      <td>{'@m:type': 'Edm.Double', '#text': '0.64'}</td>\n",
              "      <td>{'@m:type': 'Edm.Double', '#text': '0.93'}</td>\n",
              "      <td>{'@m:type': 'Edm.Double', '#text': '1.46'}</td>\n",
              "      <td>{'@m:type': 'Edm.Double', '#text': '1.66'}</td>\n",
              "      <td>{'@m:type': 'Edm.Double', '#text': '1.66'}</td>\n",
              "    </tr>\n",
              "    <tr>\n",
              "      <th>1</th>\n",
              "      <td>{'@m:type': 'Edm.Int32', '#text': '7760'}</td>\n",
              "      <td>{'@m:type': 'Edm.DateTime', '#text': '2021-01-...</td>\n",
              "      <td>{'@m:type': 'Edm.Double', '#text': '0.08'}</td>\n",
              "      <td>{'@m:type': 'Edm.Double', '#text': '0.09'}</td>\n",
              "      <td>{'@m:type': 'Edm.Double', '#text': '0.09'}</td>\n",
              "      <td>{'@m:type': 'Edm.Double', '#text': '0.09'}</td>\n",
              "      <td>{'@m:type': 'Edm.Double', '#text': '0.1'}</td>\n",
              "      <td>{'@m:type': 'Edm.Double', '#text': '0.13'}</td>\n",
              "      <td>{'@m:type': 'Edm.Double', '#text': '0.17'}</td>\n",
              "      <td>{'@m:type': 'Edm.Double', '#text': '0.38'}</td>\n",
              "      <td>{'@m:type': 'Edm.Double', '#text': '0.66'}</td>\n",
              "      <td>{'@m:type': 'Edm.Double', '#text': '0.96'}</td>\n",
              "      <td>{'@m:type': 'Edm.Double', '#text': '1.49'}</td>\n",
              "      <td>{'@m:type': 'Edm.Double', '#text': '1.7'}</td>\n",
              "      <td>{'@m:type': 'Edm.Double', '#text': '1.7'}</td>\n",
              "    </tr>\n",
              "    <tr>\n",
              "      <th>2</th>\n",
              "      <td>{'@m:type': 'Edm.Int32', '#text': '7761'}</td>\n",
              "      <td>{'@m:type': 'Edm.DateTime', '#text': '2021-01-...</td>\n",
              "      <td>{'@m:type': 'Edm.Double', '#text': '0.09'}</td>\n",
              "      <td>{'@m:type': 'Edm.Double', '#text': '0.09'}</td>\n",
              "      <td>{'@m:type': 'Edm.Double', '#text': '0.09'}</td>\n",
              "      <td>{'@m:type': 'Edm.Double', '#text': '0.09'}</td>\n",
              "      <td>{'@m:type': 'Edm.Double', '#text': '0.11'}</td>\n",
              "      <td>{'@m:type': 'Edm.Double', '#text': '0.14'}</td>\n",
              "      <td>{'@m:type': 'Edm.Double', '#text': '0.2'}</td>\n",
              "      <td>{'@m:type': 'Edm.Double', '#text': '0.43'}</td>\n",
              "      <td>{'@m:type': 'Edm.Double', '#text': '0.74'}</td>\n",
              "      <td>{'@m:type': 'Edm.Double', '#text': '1.04'}</td>\n",
              "      <td>{'@m:type': 'Edm.Double', '#text': '1.6'}</td>\n",
              "      <td>{'@m:type': 'Edm.Double', '#text': '1.81'}</td>\n",
              "      <td>{'@m:type': 'Edm.Double', '#text': '1.81'}</td>\n",
              "    </tr>\n",
              "    <tr>\n",
              "      <th>3</th>\n",
              "      <td>{'@m:type': 'Edm.Int32', '#text': '7762'}</td>\n",
              "      <td>{'@m:type': 'Edm.DateTime', '#text': '2021-01-...</td>\n",
              "      <td>{'@m:type': 'Edm.Double', '#text': '0.09'}</td>\n",
              "      <td>{'@m:type': 'Edm.Double', '#text': '0.09'}</td>\n",
              "      <td>{'@m:type': 'Edm.Double', '#text': '0.09'}</td>\n",
              "      <td>{'@m:type': 'Edm.Double', '#text': '0.09'}</td>\n",
              "      <td>{'@m:type': 'Edm.Double', '#text': '0.11'}</td>\n",
              "      <td>{'@m:type': 'Edm.Double', '#text': '0.14'}</td>\n",
              "      <td>{'@m:type': 'Edm.Double', '#text': '0.22'}</td>\n",
              "      <td>{'@m:type': 'Edm.Double', '#text': '0.46'}</td>\n",
              "      <td>{'@m:type': 'Edm.Double', '#text': '0.78'}</td>\n",
              "      <td>{'@m:type': 'Edm.Double', '#text': '1.08'}</td>\n",
              "      <td>{'@m:type': 'Edm.Double', '#text': '1.64'}</td>\n",
              "      <td>{'@m:type': 'Edm.Double', '#text': '1.85'}</td>\n",
              "      <td>{'@m:type': 'Edm.Double', '#text': '1.85'}</td>\n",
              "    </tr>\n",
              "    <tr>\n",
              "      <th>4</th>\n",
              "      <td>{'@m:type': 'Edm.Int32', '#text': '7763'}</td>\n",
              "      <td>{'@m:type': 'Edm.DateTime', '#text': '2021-01-...</td>\n",
              "      <td>{'@m:type': 'Edm.Double', '#text': '0.08'}</td>\n",
              "      <td>{'@m:type': 'Edm.Double', '#text': '0.08'}</td>\n",
              "      <td>{'@m:type': 'Edm.Double', '#text': '0.08'}</td>\n",
              "      <td>{'@m:type': 'Edm.Double', '#text': '0.09'}</td>\n",
              "      <td>{'@m:type': 'Edm.Double', '#text': '0.1'}</td>\n",
              "      <td>{'@m:type': 'Edm.Double', '#text': '0.14'}</td>\n",
              "      <td>{'@m:type': 'Edm.Double', '#text': '0.24'}</td>\n",
              "      <td>{'@m:type': 'Edm.Double', '#text': '0.49'}</td>\n",
              "      <td>{'@m:type': 'Edm.Double', '#text': '0.81'}</td>\n",
              "      <td>{'@m:type': 'Edm.Double', '#text': '1.13'}</td>\n",
              "      <td>{'@m:type': 'Edm.Double', '#text': '1.67'}</td>\n",
              "      <td>{'@m:type': 'Edm.Double', '#text': '1.87'}</td>\n",
              "      <td>{'@m:type': 'Edm.Double', '#text': '1.87'}</td>\n",
              "    </tr>\n",
              "  </tbody>\n",
              "</table>\n",
              "</div>"
            ],
            "text/plain": [
              "                   content|m:properties|d:Id  ...     content|m:properties|d:BC_30YEARDISPLAY\n",
              "0  {'@m:type': 'Edm.Int32', '#text': '7759'}  ...  {'@m:type': 'Edm.Double', '#text': '1.66'}\n",
              "1  {'@m:type': 'Edm.Int32', '#text': '7760'}  ...   {'@m:type': 'Edm.Double', '#text': '1.7'}\n",
              "2  {'@m:type': 'Edm.Int32', '#text': '7761'}  ...  {'@m:type': 'Edm.Double', '#text': '1.81'}\n",
              "3  {'@m:type': 'Edm.Int32', '#text': '7762'}  ...  {'@m:type': 'Edm.Double', '#text': '1.85'}\n",
              "4  {'@m:type': 'Edm.Int32', '#text': '7763'}  ...  {'@m:type': 'Edm.Double', '#text': '1.87'}\n",
              "\n",
              "[5 rows x 15 columns]"
            ]
          },
          "metadata": {
            "tags": []
          },
          "execution_count": 42
        }
      ]
    },
    {
      "cell_type": "code",
      "metadata": {
        "id": "UcXDZi4DzOR1"
      },
      "source": [
        "df = df.pipe(flatten)"
      ],
      "execution_count": null,
      "outputs": []
    },
    {
      "cell_type": "code",
      "metadata": {
        "id": "-RnCWwdYzOR2",
        "colab": {
          "base_uri": "https://localhost:8080/",
          "height": 226
        },
        "outputId": "797a0447-5a51-47bc-a0bc-1a8f4abbf35c"
      },
      "source": [
        "df.head()"
      ],
      "execution_count": null,
      "outputs": [
        {
          "output_type": "execute_result",
          "data": {
            "text/html": [
              "<div>\n",
              "<style scoped>\n",
              "    .dataframe tbody tr th:only-of-type {\n",
              "        vertical-align: middle;\n",
              "    }\n",
              "\n",
              "    .dataframe tbody tr th {\n",
              "        vertical-align: top;\n",
              "    }\n",
              "\n",
              "    .dataframe thead th {\n",
              "        text-align: right;\n",
              "    }\n",
              "</style>\n",
              "<table border=\"1\" class=\"dataframe\">\n",
              "  <thead>\n",
              "    <tr style=\"text-align: right;\">\n",
              "      <th></th>\n",
              "      <th>content|m:properties|d:Id|@m:type</th>\n",
              "      <th>content|m:properties|d:Id</th>\n",
              "      <th>content|m:properties|d:NEW_DATE|@m:type</th>\n",
              "      <th>content|m:properties|d:NEW_DATE</th>\n",
              "      <th>content|m:properties|d:BC_1MONTH|@m:type</th>\n",
              "      <th>content|m:properties|d:BC_1MONTH</th>\n",
              "      <th>content|m:properties|d:BC_2MONTH|@m:type</th>\n",
              "      <th>content|m:properties|d:BC_2MONTH</th>\n",
              "      <th>content|m:properties|d:BC_3MONTH|@m:type</th>\n",
              "      <th>content|m:properties|d:BC_3MONTH</th>\n",
              "      <th>content|m:properties|d:BC_6MONTH|@m:type</th>\n",
              "      <th>content|m:properties|d:BC_6MONTH</th>\n",
              "      <th>content|m:properties|d:BC_1YEAR|@m:type</th>\n",
              "      <th>content|m:properties|d:BC_1YEAR</th>\n",
              "      <th>content|m:properties|d:BC_2YEAR|@m:type</th>\n",
              "      <th>content|m:properties|d:BC_2YEAR</th>\n",
              "      <th>content|m:properties|d:BC_3YEAR|@m:type</th>\n",
              "      <th>content|m:properties|d:BC_3YEAR</th>\n",
              "      <th>content|m:properties|d:BC_5YEAR|@m:type</th>\n",
              "      <th>content|m:properties|d:BC_5YEAR</th>\n",
              "      <th>content|m:properties|d:BC_7YEAR|@m:type</th>\n",
              "      <th>content|m:properties|d:BC_7YEAR</th>\n",
              "      <th>content|m:properties|d:BC_10YEAR|@m:type</th>\n",
              "      <th>content|m:properties|d:BC_10YEAR</th>\n",
              "      <th>content|m:properties|d:BC_20YEAR|@m:type</th>\n",
              "      <th>content|m:properties|d:BC_20YEAR</th>\n",
              "      <th>content|m:properties|d:BC_30YEAR|@m:type</th>\n",
              "      <th>content|m:properties|d:BC_30YEAR</th>\n",
              "      <th>content|m:properties|d:BC_30YEARDISPLAY|@m:type</th>\n",
              "      <th>content|m:properties|d:BC_30YEARDISPLAY</th>\n",
              "    </tr>\n",
              "  </thead>\n",
              "  <tbody>\n",
              "    <tr>\n",
              "      <th>0</th>\n",
              "      <td>Edm.Int32</td>\n",
              "      <td>7759</td>\n",
              "      <td>Edm.DateTime</td>\n",
              "      <td>2021-01-04T00:00:00</td>\n",
              "      <td>Edm.Double</td>\n",
              "      <td>0.09</td>\n",
              "      <td>Edm.Double</td>\n",
              "      <td>0.09</td>\n",
              "      <td>Edm.Double</td>\n",
              "      <td>0.09</td>\n",
              "      <td>Edm.Double</td>\n",
              "      <td>0.09</td>\n",
              "      <td>Edm.Double</td>\n",
              "      <td>0.1</td>\n",
              "      <td>Edm.Double</td>\n",
              "      <td>0.11</td>\n",
              "      <td>Edm.Double</td>\n",
              "      <td>0.16</td>\n",
              "      <td>Edm.Double</td>\n",
              "      <td>0.36</td>\n",
              "      <td>Edm.Double</td>\n",
              "      <td>0.64</td>\n",
              "      <td>Edm.Double</td>\n",
              "      <td>0.93</td>\n",
              "      <td>Edm.Double</td>\n",
              "      <td>1.46</td>\n",
              "      <td>Edm.Double</td>\n",
              "      <td>1.66</td>\n",
              "      <td>Edm.Double</td>\n",
              "      <td>1.66</td>\n",
              "    </tr>\n",
              "    <tr>\n",
              "      <th>1</th>\n",
              "      <td>Edm.Int32</td>\n",
              "      <td>7760</td>\n",
              "      <td>Edm.DateTime</td>\n",
              "      <td>2021-01-05T00:00:00</td>\n",
              "      <td>Edm.Double</td>\n",
              "      <td>0.08</td>\n",
              "      <td>Edm.Double</td>\n",
              "      <td>0.09</td>\n",
              "      <td>Edm.Double</td>\n",
              "      <td>0.09</td>\n",
              "      <td>Edm.Double</td>\n",
              "      <td>0.09</td>\n",
              "      <td>Edm.Double</td>\n",
              "      <td>0.1</td>\n",
              "      <td>Edm.Double</td>\n",
              "      <td>0.13</td>\n",
              "      <td>Edm.Double</td>\n",
              "      <td>0.17</td>\n",
              "      <td>Edm.Double</td>\n",
              "      <td>0.38</td>\n",
              "      <td>Edm.Double</td>\n",
              "      <td>0.66</td>\n",
              "      <td>Edm.Double</td>\n",
              "      <td>0.96</td>\n",
              "      <td>Edm.Double</td>\n",
              "      <td>1.49</td>\n",
              "      <td>Edm.Double</td>\n",
              "      <td>1.7</td>\n",
              "      <td>Edm.Double</td>\n",
              "      <td>1.7</td>\n",
              "    </tr>\n",
              "    <tr>\n",
              "      <th>2</th>\n",
              "      <td>Edm.Int32</td>\n",
              "      <td>7761</td>\n",
              "      <td>Edm.DateTime</td>\n",
              "      <td>2021-01-06T00:00:00</td>\n",
              "      <td>Edm.Double</td>\n",
              "      <td>0.09</td>\n",
              "      <td>Edm.Double</td>\n",
              "      <td>0.09</td>\n",
              "      <td>Edm.Double</td>\n",
              "      <td>0.09</td>\n",
              "      <td>Edm.Double</td>\n",
              "      <td>0.09</td>\n",
              "      <td>Edm.Double</td>\n",
              "      <td>0.11</td>\n",
              "      <td>Edm.Double</td>\n",
              "      <td>0.14</td>\n",
              "      <td>Edm.Double</td>\n",
              "      <td>0.2</td>\n",
              "      <td>Edm.Double</td>\n",
              "      <td>0.43</td>\n",
              "      <td>Edm.Double</td>\n",
              "      <td>0.74</td>\n",
              "      <td>Edm.Double</td>\n",
              "      <td>1.04</td>\n",
              "      <td>Edm.Double</td>\n",
              "      <td>1.6</td>\n",
              "      <td>Edm.Double</td>\n",
              "      <td>1.81</td>\n",
              "      <td>Edm.Double</td>\n",
              "      <td>1.81</td>\n",
              "    </tr>\n",
              "    <tr>\n",
              "      <th>3</th>\n",
              "      <td>Edm.Int32</td>\n",
              "      <td>7762</td>\n",
              "      <td>Edm.DateTime</td>\n",
              "      <td>2021-01-07T00:00:00</td>\n",
              "      <td>Edm.Double</td>\n",
              "      <td>0.09</td>\n",
              "      <td>Edm.Double</td>\n",
              "      <td>0.09</td>\n",
              "      <td>Edm.Double</td>\n",
              "      <td>0.09</td>\n",
              "      <td>Edm.Double</td>\n",
              "      <td>0.09</td>\n",
              "      <td>Edm.Double</td>\n",
              "      <td>0.11</td>\n",
              "      <td>Edm.Double</td>\n",
              "      <td>0.14</td>\n",
              "      <td>Edm.Double</td>\n",
              "      <td>0.22</td>\n",
              "      <td>Edm.Double</td>\n",
              "      <td>0.46</td>\n",
              "      <td>Edm.Double</td>\n",
              "      <td>0.78</td>\n",
              "      <td>Edm.Double</td>\n",
              "      <td>1.08</td>\n",
              "      <td>Edm.Double</td>\n",
              "      <td>1.64</td>\n",
              "      <td>Edm.Double</td>\n",
              "      <td>1.85</td>\n",
              "      <td>Edm.Double</td>\n",
              "      <td>1.85</td>\n",
              "    </tr>\n",
              "    <tr>\n",
              "      <th>4</th>\n",
              "      <td>Edm.Int32</td>\n",
              "      <td>7763</td>\n",
              "      <td>Edm.DateTime</td>\n",
              "      <td>2021-01-08T00:00:00</td>\n",
              "      <td>Edm.Double</td>\n",
              "      <td>0.08</td>\n",
              "      <td>Edm.Double</td>\n",
              "      <td>0.08</td>\n",
              "      <td>Edm.Double</td>\n",
              "      <td>0.08</td>\n",
              "      <td>Edm.Double</td>\n",
              "      <td>0.09</td>\n",
              "      <td>Edm.Double</td>\n",
              "      <td>0.1</td>\n",
              "      <td>Edm.Double</td>\n",
              "      <td>0.14</td>\n",
              "      <td>Edm.Double</td>\n",
              "      <td>0.24</td>\n",
              "      <td>Edm.Double</td>\n",
              "      <td>0.49</td>\n",
              "      <td>Edm.Double</td>\n",
              "      <td>0.81</td>\n",
              "      <td>Edm.Double</td>\n",
              "      <td>1.13</td>\n",
              "      <td>Edm.Double</td>\n",
              "      <td>1.67</td>\n",
              "      <td>Edm.Double</td>\n",
              "      <td>1.87</td>\n",
              "      <td>Edm.Double</td>\n",
              "      <td>1.87</td>\n",
              "    </tr>\n",
              "  </tbody>\n",
              "</table>\n",
              "</div>"
            ],
            "text/plain": [
              "  content|m:properties|d:Id|@m:type  ... content|m:properties|d:BC_30YEARDISPLAY\n",
              "0                         Edm.Int32  ...                                    1.66\n",
              "1                         Edm.Int32  ...                                     1.7\n",
              "2                         Edm.Int32  ...                                    1.81\n",
              "3                         Edm.Int32  ...                                    1.85\n",
              "4                         Edm.Int32  ...                                    1.87\n",
              "\n",
              "[5 rows x 30 columns]"
            ]
          },
          "metadata": {
            "tags": []
          },
          "execution_count": 44
        }
      ]
    },
    {
      "cell_type": "code",
      "metadata": {
        "id": "I0FtUobgzOR3"
      },
      "source": [
        "df = df.drop(df.filter(regex='@m:type').columns, axis=1)"
      ],
      "execution_count": null,
      "outputs": []
    },
    {
      "cell_type": "code",
      "metadata": {
        "id": "nbvVoGO2zOR3",
        "colab": {
          "base_uri": "https://localhost:8080/",
          "height": 226
        },
        "outputId": "45bc9e75-046c-435a-8a1a-d25fff8c4616"
      },
      "source": [
        "df.head()"
      ],
      "execution_count": null,
      "outputs": [
        {
          "output_type": "execute_result",
          "data": {
            "text/html": [
              "<div>\n",
              "<style scoped>\n",
              "    .dataframe tbody tr th:only-of-type {\n",
              "        vertical-align: middle;\n",
              "    }\n",
              "\n",
              "    .dataframe tbody tr th {\n",
              "        vertical-align: top;\n",
              "    }\n",
              "\n",
              "    .dataframe thead th {\n",
              "        text-align: right;\n",
              "    }\n",
              "</style>\n",
              "<table border=\"1\" class=\"dataframe\">\n",
              "  <thead>\n",
              "    <tr style=\"text-align: right;\">\n",
              "      <th></th>\n",
              "      <th>content|m:properties|d:Id</th>\n",
              "      <th>content|m:properties|d:NEW_DATE</th>\n",
              "      <th>content|m:properties|d:BC_1MONTH</th>\n",
              "      <th>content|m:properties|d:BC_2MONTH</th>\n",
              "      <th>content|m:properties|d:BC_3MONTH</th>\n",
              "      <th>content|m:properties|d:BC_6MONTH</th>\n",
              "      <th>content|m:properties|d:BC_1YEAR</th>\n",
              "      <th>content|m:properties|d:BC_2YEAR</th>\n",
              "      <th>content|m:properties|d:BC_3YEAR</th>\n",
              "      <th>content|m:properties|d:BC_5YEAR</th>\n",
              "      <th>content|m:properties|d:BC_7YEAR</th>\n",
              "      <th>content|m:properties|d:BC_10YEAR</th>\n",
              "      <th>content|m:properties|d:BC_20YEAR</th>\n",
              "      <th>content|m:properties|d:BC_30YEAR</th>\n",
              "      <th>content|m:properties|d:BC_30YEARDISPLAY</th>\n",
              "    </tr>\n",
              "  </thead>\n",
              "  <tbody>\n",
              "    <tr>\n",
              "      <th>0</th>\n",
              "      <td>7759</td>\n",
              "      <td>2021-01-04T00:00:00</td>\n",
              "      <td>0.09</td>\n",
              "      <td>0.09</td>\n",
              "      <td>0.09</td>\n",
              "      <td>0.09</td>\n",
              "      <td>0.1</td>\n",
              "      <td>0.11</td>\n",
              "      <td>0.16</td>\n",
              "      <td>0.36</td>\n",
              "      <td>0.64</td>\n",
              "      <td>0.93</td>\n",
              "      <td>1.46</td>\n",
              "      <td>1.66</td>\n",
              "      <td>1.66</td>\n",
              "    </tr>\n",
              "    <tr>\n",
              "      <th>1</th>\n",
              "      <td>7760</td>\n",
              "      <td>2021-01-05T00:00:00</td>\n",
              "      <td>0.08</td>\n",
              "      <td>0.09</td>\n",
              "      <td>0.09</td>\n",
              "      <td>0.09</td>\n",
              "      <td>0.1</td>\n",
              "      <td>0.13</td>\n",
              "      <td>0.17</td>\n",
              "      <td>0.38</td>\n",
              "      <td>0.66</td>\n",
              "      <td>0.96</td>\n",
              "      <td>1.49</td>\n",
              "      <td>1.7</td>\n",
              "      <td>1.7</td>\n",
              "    </tr>\n",
              "    <tr>\n",
              "      <th>2</th>\n",
              "      <td>7761</td>\n",
              "      <td>2021-01-06T00:00:00</td>\n",
              "      <td>0.09</td>\n",
              "      <td>0.09</td>\n",
              "      <td>0.09</td>\n",
              "      <td>0.09</td>\n",
              "      <td>0.11</td>\n",
              "      <td>0.14</td>\n",
              "      <td>0.2</td>\n",
              "      <td>0.43</td>\n",
              "      <td>0.74</td>\n",
              "      <td>1.04</td>\n",
              "      <td>1.6</td>\n",
              "      <td>1.81</td>\n",
              "      <td>1.81</td>\n",
              "    </tr>\n",
              "    <tr>\n",
              "      <th>3</th>\n",
              "      <td>7762</td>\n",
              "      <td>2021-01-07T00:00:00</td>\n",
              "      <td>0.09</td>\n",
              "      <td>0.09</td>\n",
              "      <td>0.09</td>\n",
              "      <td>0.09</td>\n",
              "      <td>0.11</td>\n",
              "      <td>0.14</td>\n",
              "      <td>0.22</td>\n",
              "      <td>0.46</td>\n",
              "      <td>0.78</td>\n",
              "      <td>1.08</td>\n",
              "      <td>1.64</td>\n",
              "      <td>1.85</td>\n",
              "      <td>1.85</td>\n",
              "    </tr>\n",
              "    <tr>\n",
              "      <th>4</th>\n",
              "      <td>7763</td>\n",
              "      <td>2021-01-08T00:00:00</td>\n",
              "      <td>0.08</td>\n",
              "      <td>0.08</td>\n",
              "      <td>0.08</td>\n",
              "      <td>0.09</td>\n",
              "      <td>0.1</td>\n",
              "      <td>0.14</td>\n",
              "      <td>0.24</td>\n",
              "      <td>0.49</td>\n",
              "      <td>0.81</td>\n",
              "      <td>1.13</td>\n",
              "      <td>1.67</td>\n",
              "      <td>1.87</td>\n",
              "      <td>1.87</td>\n",
              "    </tr>\n",
              "  </tbody>\n",
              "</table>\n",
              "</div>"
            ],
            "text/plain": [
              "  content|m:properties|d:Id  ... content|m:properties|d:BC_30YEARDISPLAY\n",
              "0                      7759  ...                                    1.66\n",
              "1                      7760  ...                                     1.7\n",
              "2                      7761  ...                                    1.81\n",
              "3                      7762  ...                                    1.85\n",
              "4                      7763  ...                                    1.87\n",
              "\n",
              "[5 rows x 15 columns]"
            ]
          },
          "metadata": {
            "tags": []
          },
          "execution_count": 46
        }
      ]
    },
    {
      "cell_type": "code",
      "metadata": {
        "id": "9ZU3w6XjzOR4"
      },
      "source": [
        "import re\n",
        "def correct_col_names(full_str):\n",
        "    m = re.search('content.*:(.*)$', full_str)\n",
        "    return m.group(1)"
      ],
      "execution_count": null,
      "outputs": []
    },
    {
      "cell_type": "code",
      "metadata": {
        "id": "H8PsxAtkzOR4",
        "colab": {
          "base_uri": "https://localhost:8080/",
          "height": 36
        },
        "outputId": "980c338b-b76b-4f4e-a81e-cfb7976b4bbf"
      },
      "source": [
        "correct_col_names('content|m:properties|d:NEW_DATE')"
      ],
      "execution_count": null,
      "outputs": [
        {
          "output_type": "execute_result",
          "data": {
            "application/vnd.google.colaboratory.intrinsic+json": {
              "type": "string"
            },
            "text/plain": [
              "'NEW_DATE'"
            ]
          },
          "metadata": {
            "tags": []
          },
          "execution_count": 48
        }
      ]
    },
    {
      "cell_type": "code",
      "metadata": {
        "id": "kW1ueOCyzOR5",
        "colab": {
          "base_uri": "https://localhost:8080/"
        },
        "outputId": "b1fea982-a13b-47a8-bcad-503026dd3819"
      },
      "source": [
        "df.columns"
      ],
      "execution_count": null,
      "outputs": [
        {
          "output_type": "execute_result",
          "data": {
            "text/plain": [
              "Index(['content|m:properties|d:Id', 'content|m:properties|d:NEW_DATE',\n",
              "       'content|m:properties|d:BC_1MONTH', 'content|m:properties|d:BC_2MONTH',\n",
              "       'content|m:properties|d:BC_3MONTH', 'content|m:properties|d:BC_6MONTH',\n",
              "       'content|m:properties|d:BC_1YEAR', 'content|m:properties|d:BC_2YEAR',\n",
              "       'content|m:properties|d:BC_3YEAR', 'content|m:properties|d:BC_5YEAR',\n",
              "       'content|m:properties|d:BC_7YEAR', 'content|m:properties|d:BC_10YEAR',\n",
              "       'content|m:properties|d:BC_20YEAR', 'content|m:properties|d:BC_30YEAR',\n",
              "       'content|m:properties|d:BC_30YEARDISPLAY'],\n",
              "      dtype='object')"
            ]
          },
          "metadata": {
            "tags": []
          },
          "execution_count": 49
        }
      ]
    },
    {
      "cell_type": "code",
      "metadata": {
        "id": "NbNCfDDHzOR5"
      },
      "source": [
        "df.columns = map(correct_col_names, df.columns)"
      ],
      "execution_count": null,
      "outputs": []
    },
    {
      "cell_type": "code",
      "metadata": {
        "id": "5Zl3bzhRzOR5",
        "colab": {
          "base_uri": "https://localhost:8080/",
          "height": 226
        },
        "outputId": "ed3daea6-567f-4691-964b-ff5d1e9a5719"
      },
      "source": [
        "df.head()"
      ],
      "execution_count": null,
      "outputs": [
        {
          "output_type": "execute_result",
          "data": {
            "text/html": [
              "<div>\n",
              "<style scoped>\n",
              "    .dataframe tbody tr th:only-of-type {\n",
              "        vertical-align: middle;\n",
              "    }\n",
              "\n",
              "    .dataframe tbody tr th {\n",
              "        vertical-align: top;\n",
              "    }\n",
              "\n",
              "    .dataframe thead th {\n",
              "        text-align: right;\n",
              "    }\n",
              "</style>\n",
              "<table border=\"1\" class=\"dataframe\">\n",
              "  <thead>\n",
              "    <tr style=\"text-align: right;\">\n",
              "      <th></th>\n",
              "      <th>Id</th>\n",
              "      <th>NEW_DATE</th>\n",
              "      <th>BC_1MONTH</th>\n",
              "      <th>BC_2MONTH</th>\n",
              "      <th>BC_3MONTH</th>\n",
              "      <th>BC_6MONTH</th>\n",
              "      <th>BC_1YEAR</th>\n",
              "      <th>BC_2YEAR</th>\n",
              "      <th>BC_3YEAR</th>\n",
              "      <th>BC_5YEAR</th>\n",
              "      <th>BC_7YEAR</th>\n",
              "      <th>BC_10YEAR</th>\n",
              "      <th>BC_20YEAR</th>\n",
              "      <th>BC_30YEAR</th>\n",
              "      <th>BC_30YEARDISPLAY</th>\n",
              "    </tr>\n",
              "  </thead>\n",
              "  <tbody>\n",
              "    <tr>\n",
              "      <th>0</th>\n",
              "      <td>7759</td>\n",
              "      <td>2021-01-04T00:00:00</td>\n",
              "      <td>0.09</td>\n",
              "      <td>0.09</td>\n",
              "      <td>0.09</td>\n",
              "      <td>0.09</td>\n",
              "      <td>0.1</td>\n",
              "      <td>0.11</td>\n",
              "      <td>0.16</td>\n",
              "      <td>0.36</td>\n",
              "      <td>0.64</td>\n",
              "      <td>0.93</td>\n",
              "      <td>1.46</td>\n",
              "      <td>1.66</td>\n",
              "      <td>1.66</td>\n",
              "    </tr>\n",
              "    <tr>\n",
              "      <th>1</th>\n",
              "      <td>7760</td>\n",
              "      <td>2021-01-05T00:00:00</td>\n",
              "      <td>0.08</td>\n",
              "      <td>0.09</td>\n",
              "      <td>0.09</td>\n",
              "      <td>0.09</td>\n",
              "      <td>0.1</td>\n",
              "      <td>0.13</td>\n",
              "      <td>0.17</td>\n",
              "      <td>0.38</td>\n",
              "      <td>0.66</td>\n",
              "      <td>0.96</td>\n",
              "      <td>1.49</td>\n",
              "      <td>1.7</td>\n",
              "      <td>1.7</td>\n",
              "    </tr>\n",
              "    <tr>\n",
              "      <th>2</th>\n",
              "      <td>7761</td>\n",
              "      <td>2021-01-06T00:00:00</td>\n",
              "      <td>0.09</td>\n",
              "      <td>0.09</td>\n",
              "      <td>0.09</td>\n",
              "      <td>0.09</td>\n",
              "      <td>0.11</td>\n",
              "      <td>0.14</td>\n",
              "      <td>0.2</td>\n",
              "      <td>0.43</td>\n",
              "      <td>0.74</td>\n",
              "      <td>1.04</td>\n",
              "      <td>1.6</td>\n",
              "      <td>1.81</td>\n",
              "      <td>1.81</td>\n",
              "    </tr>\n",
              "    <tr>\n",
              "      <th>3</th>\n",
              "      <td>7762</td>\n",
              "      <td>2021-01-07T00:00:00</td>\n",
              "      <td>0.09</td>\n",
              "      <td>0.09</td>\n",
              "      <td>0.09</td>\n",
              "      <td>0.09</td>\n",
              "      <td>0.11</td>\n",
              "      <td>0.14</td>\n",
              "      <td>0.22</td>\n",
              "      <td>0.46</td>\n",
              "      <td>0.78</td>\n",
              "      <td>1.08</td>\n",
              "      <td>1.64</td>\n",
              "      <td>1.85</td>\n",
              "      <td>1.85</td>\n",
              "    </tr>\n",
              "    <tr>\n",
              "      <th>4</th>\n",
              "      <td>7763</td>\n",
              "      <td>2021-01-08T00:00:00</td>\n",
              "      <td>0.08</td>\n",
              "      <td>0.08</td>\n",
              "      <td>0.08</td>\n",
              "      <td>0.09</td>\n",
              "      <td>0.1</td>\n",
              "      <td>0.14</td>\n",
              "      <td>0.24</td>\n",
              "      <td>0.49</td>\n",
              "      <td>0.81</td>\n",
              "      <td>1.13</td>\n",
              "      <td>1.67</td>\n",
              "      <td>1.87</td>\n",
              "      <td>1.87</td>\n",
              "    </tr>\n",
              "  </tbody>\n",
              "</table>\n",
              "</div>"
            ],
            "text/plain": [
              "     Id             NEW_DATE BC_1MONTH  ... BC_20YEAR BC_30YEAR BC_30YEARDISPLAY\n",
              "0  7759  2021-01-04T00:00:00      0.09  ...      1.46      1.66             1.66\n",
              "1  7760  2021-01-05T00:00:00      0.08  ...      1.49       1.7              1.7\n",
              "2  7761  2021-01-06T00:00:00      0.09  ...       1.6      1.81             1.81\n",
              "3  7762  2021-01-07T00:00:00      0.09  ...      1.64      1.85             1.85\n",
              "4  7763  2021-01-08T00:00:00      0.08  ...      1.67      1.87             1.87\n",
              "\n",
              "[5 rows x 15 columns]"
            ]
          },
          "metadata": {
            "tags": []
          },
          "execution_count": 51
        }
      ]
    },
    {
      "cell_type": "code",
      "metadata": {
        "id": "iwQX4u9-zOR6"
      },
      "source": [
        "df.drop('Id', axis=1, inplace=True)"
      ],
      "execution_count": null,
      "outputs": []
    },
    {
      "cell_type": "code",
      "metadata": {
        "id": "gvDLf1PVzOR6"
      },
      "source": [
        "df.set_index('NEW_DATE', inplace=True)"
      ],
      "execution_count": null,
      "outputs": []
    },
    {
      "cell_type": "code",
      "metadata": {
        "id": "wX6Vw6BFzOR7",
        "colab": {
          "base_uri": "https://localhost:8080/",
          "height": 258
        },
        "outputId": "ea5aadcd-e132-493d-88a5-ee94c9c51c75"
      },
      "source": [
        "df.head()"
      ],
      "execution_count": null,
      "outputs": [
        {
          "output_type": "execute_result",
          "data": {
            "text/html": [
              "<div>\n",
              "<style scoped>\n",
              "    .dataframe tbody tr th:only-of-type {\n",
              "        vertical-align: middle;\n",
              "    }\n",
              "\n",
              "    .dataframe tbody tr th {\n",
              "        vertical-align: top;\n",
              "    }\n",
              "\n",
              "    .dataframe thead th {\n",
              "        text-align: right;\n",
              "    }\n",
              "</style>\n",
              "<table border=\"1\" class=\"dataframe\">\n",
              "  <thead>\n",
              "    <tr style=\"text-align: right;\">\n",
              "      <th></th>\n",
              "      <th>BC_1MONTH</th>\n",
              "      <th>BC_2MONTH</th>\n",
              "      <th>BC_3MONTH</th>\n",
              "      <th>BC_6MONTH</th>\n",
              "      <th>BC_1YEAR</th>\n",
              "      <th>BC_2YEAR</th>\n",
              "      <th>BC_3YEAR</th>\n",
              "      <th>BC_5YEAR</th>\n",
              "      <th>BC_7YEAR</th>\n",
              "      <th>BC_10YEAR</th>\n",
              "      <th>BC_20YEAR</th>\n",
              "      <th>BC_30YEAR</th>\n",
              "      <th>BC_30YEARDISPLAY</th>\n",
              "    </tr>\n",
              "    <tr>\n",
              "      <th>NEW_DATE</th>\n",
              "      <th></th>\n",
              "      <th></th>\n",
              "      <th></th>\n",
              "      <th></th>\n",
              "      <th></th>\n",
              "      <th></th>\n",
              "      <th></th>\n",
              "      <th></th>\n",
              "      <th></th>\n",
              "      <th></th>\n",
              "      <th></th>\n",
              "      <th></th>\n",
              "      <th></th>\n",
              "    </tr>\n",
              "  </thead>\n",
              "  <tbody>\n",
              "    <tr>\n",
              "      <th>2021-01-04T00:00:00</th>\n",
              "      <td>0.09</td>\n",
              "      <td>0.09</td>\n",
              "      <td>0.09</td>\n",
              "      <td>0.09</td>\n",
              "      <td>0.1</td>\n",
              "      <td>0.11</td>\n",
              "      <td>0.16</td>\n",
              "      <td>0.36</td>\n",
              "      <td>0.64</td>\n",
              "      <td>0.93</td>\n",
              "      <td>1.46</td>\n",
              "      <td>1.66</td>\n",
              "      <td>1.66</td>\n",
              "    </tr>\n",
              "    <tr>\n",
              "      <th>2021-01-05T00:00:00</th>\n",
              "      <td>0.08</td>\n",
              "      <td>0.09</td>\n",
              "      <td>0.09</td>\n",
              "      <td>0.09</td>\n",
              "      <td>0.1</td>\n",
              "      <td>0.13</td>\n",
              "      <td>0.17</td>\n",
              "      <td>0.38</td>\n",
              "      <td>0.66</td>\n",
              "      <td>0.96</td>\n",
              "      <td>1.49</td>\n",
              "      <td>1.7</td>\n",
              "      <td>1.7</td>\n",
              "    </tr>\n",
              "    <tr>\n",
              "      <th>2021-01-06T00:00:00</th>\n",
              "      <td>0.09</td>\n",
              "      <td>0.09</td>\n",
              "      <td>0.09</td>\n",
              "      <td>0.09</td>\n",
              "      <td>0.11</td>\n",
              "      <td>0.14</td>\n",
              "      <td>0.2</td>\n",
              "      <td>0.43</td>\n",
              "      <td>0.74</td>\n",
              "      <td>1.04</td>\n",
              "      <td>1.6</td>\n",
              "      <td>1.81</td>\n",
              "      <td>1.81</td>\n",
              "    </tr>\n",
              "    <tr>\n",
              "      <th>2021-01-07T00:00:00</th>\n",
              "      <td>0.09</td>\n",
              "      <td>0.09</td>\n",
              "      <td>0.09</td>\n",
              "      <td>0.09</td>\n",
              "      <td>0.11</td>\n",
              "      <td>0.14</td>\n",
              "      <td>0.22</td>\n",
              "      <td>0.46</td>\n",
              "      <td>0.78</td>\n",
              "      <td>1.08</td>\n",
              "      <td>1.64</td>\n",
              "      <td>1.85</td>\n",
              "      <td>1.85</td>\n",
              "    </tr>\n",
              "    <tr>\n",
              "      <th>2021-01-08T00:00:00</th>\n",
              "      <td>0.08</td>\n",
              "      <td>0.08</td>\n",
              "      <td>0.08</td>\n",
              "      <td>0.09</td>\n",
              "      <td>0.1</td>\n",
              "      <td>0.14</td>\n",
              "      <td>0.24</td>\n",
              "      <td>0.49</td>\n",
              "      <td>0.81</td>\n",
              "      <td>1.13</td>\n",
              "      <td>1.67</td>\n",
              "      <td>1.87</td>\n",
              "      <td>1.87</td>\n",
              "    </tr>\n",
              "  </tbody>\n",
              "</table>\n",
              "</div>"
            ],
            "text/plain": [
              "                    BC_1MONTH BC_2MONTH  ... BC_30YEAR BC_30YEARDISPLAY\n",
              "NEW_DATE                                 ...                           \n",
              "2021-01-04T00:00:00      0.09      0.09  ...      1.66             1.66\n",
              "2021-01-05T00:00:00      0.08      0.09  ...       1.7              1.7\n",
              "2021-01-06T00:00:00      0.09      0.09  ...      1.81             1.81\n",
              "2021-01-07T00:00:00      0.09      0.09  ...      1.85             1.85\n",
              "2021-01-08T00:00:00      0.08      0.08  ...      1.87             1.87\n",
              "\n",
              "[5 rows x 13 columns]"
            ]
          },
          "metadata": {
            "tags": []
          },
          "execution_count": 54
        }
      ]
    },
    {
      "cell_type": "code",
      "metadata": {
        "id": "y-Bt8F7AzOR7"
      },
      "source": [
        "import matplotlib.pyplot as plt"
      ],
      "execution_count": null,
      "outputs": []
    },
    {
      "cell_type": "code",
      "metadata": {
        "id": "llZan8zFzOR7"
      },
      "source": [
        "%matplotlib inline"
      ],
      "execution_count": null,
      "outputs": []
    },
    {
      "cell_type": "code",
      "metadata": {
        "scrolled": false,
        "id": "T78JLgBWzOR7",
        "colab": {
          "base_uri": "https://localhost:8080/",
          "height": 527
        },
        "outputId": "fbbbe2cf-fd8a-4f4d-c520-49a3574a79f6"
      },
      "source": [
        "plt.figure(figsize=[8,8])\n",
        "plt.plot(df.columns, df.iloc[1])\n",
        "plt.xticks(rotation=90)\n",
        "plt.subplots_adjust(bottom=0.2)\n",
        "plt.show()"
      ],
      "execution_count": null,
      "outputs": [
        {
          "output_type": "display_data",
          "data": {
            "image/png": "[encoded data removed]",
            "text/plain": [
              "<Figure size 576x576 with 1 Axes>"
            ]
          },
          "metadata": {
            "tags": [],
            "needs_background": "light"
          }
        }
      ]
    },
    {
      "cell_type": "code",
      "metadata": {
        "id": "dEVV8lHWzOR8"
      },
      "source": [
        "plt.gcf().get_axes?\n"
      ],
      "execution_count": null,
      "outputs": []
    },
    {
      "cell_type": "code",
      "metadata": {
        "id": "4Z_8P4gXzOR9"
      },
      "source": [
        "plt.gcf().get_axes"
      ],
      "execution_count": null,
      "outputs": []
    },
    {
      "cell_type": "code",
      "metadata": {
        "id": "AIgcI_BVzOR9"
      },
      "source": [
        ""
      ],
      "execution_count": null,
      "outputs": []
    }
  ]
}